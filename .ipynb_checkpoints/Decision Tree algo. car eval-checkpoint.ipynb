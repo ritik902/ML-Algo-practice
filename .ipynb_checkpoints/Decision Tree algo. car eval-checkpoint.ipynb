{
 "cells": [
  {
   "cell_type": "code",
   "execution_count": 31,
   "id": "8271f901",
   "metadata": {},
   "outputs": [],
   "source": [
    "import pandas as pd\n",
    "from sklearn import tree\n",
    "from sklearn.model_selection import train_test_split\n",
    "from sklearn.tree import DecisionTreeClassifier\n",
    "from sklearn.metrics import confusion_matrix\n",
    "from sklearn.metrics import accuracy_score"
   ]
  },
  {
   "cell_type": "code",
   "execution_count": 32,
   "id": "ad4084f4",
   "metadata": {},
   "outputs": [],
   "source": [
    "dataset = pd.read_csv('car_evaluation.csv')"
   ]
  },
  {
   "cell_type": "code",
   "execution_count": 33,
   "id": "58485db9",
   "metadata": {},
   "outputs": [
    {
     "data": {
      "text/plain": [
       "vhigh     0\n",
       "vhighe    0\n",
       "C         0\n",
       "D         0\n",
       "small     0\n",
       "low       0\n",
       "unacc     0\n",
       "dtype: int64"
      ]
     },
     "execution_count": 33,
     "metadata": {},
     "output_type": "execute_result"
    }
   ],
   "source": [
    "dataset.isnull().sum()"
   ]
  },
  {
   "cell_type": "code",
   "execution_count": 34,
   "id": "60965d34",
   "metadata": {},
   "outputs": [
    {
     "name": "stdout",
     "output_type": "stream",
     "text": [
      "1727\n"
     ]
    }
   ],
   "source": [
    "print(len(dataset))"
   ]
  },
  {
   "cell_type": "code",
   "execution_count": 35,
   "id": "84e02802",
   "metadata": {},
   "outputs": [
    {
     "data": {
      "text/html": [
       "<div>\n",
       "<style scoped>\n",
       "    .dataframe tbody tr th:only-of-type {\n",
       "        vertical-align: middle;\n",
       "    }\n",
       "\n",
       "    .dataframe tbody tr th {\n",
       "        vertical-align: top;\n",
       "    }\n",
       "\n",
       "    .dataframe thead th {\n",
       "        text-align: right;\n",
       "    }\n",
       "</style>\n",
       "<table border=\"1\" class=\"dataframe\">\n",
       "  <thead>\n",
       "    <tr style=\"text-align: right;\">\n",
       "      <th></th>\n",
       "      <th>vhigh</th>\n",
       "      <th>vhighe</th>\n",
       "      <th>C</th>\n",
       "      <th>D</th>\n",
       "      <th>small</th>\n",
       "      <th>low</th>\n",
       "      <th>unacc</th>\n",
       "    </tr>\n",
       "  </thead>\n",
       "  <tbody>\n",
       "    <tr>\n",
       "      <th>0</th>\n",
       "      <td>vhigh</td>\n",
       "      <td>vhigh</td>\n",
       "      <td>2</td>\n",
       "      <td>2</td>\n",
       "      <td>small</td>\n",
       "      <td>med</td>\n",
       "      <td>unacc</td>\n",
       "    </tr>\n",
       "    <tr>\n",
       "      <th>1</th>\n",
       "      <td>vhigh</td>\n",
       "      <td>vhigh</td>\n",
       "      <td>2</td>\n",
       "      <td>2</td>\n",
       "      <td>small</td>\n",
       "      <td>high</td>\n",
       "      <td>unacc</td>\n",
       "    </tr>\n",
       "    <tr>\n",
       "      <th>2</th>\n",
       "      <td>vhigh</td>\n",
       "      <td>vhigh</td>\n",
       "      <td>2</td>\n",
       "      <td>2</td>\n",
       "      <td>med</td>\n",
       "      <td>low</td>\n",
       "      <td>unacc</td>\n",
       "    </tr>\n",
       "    <tr>\n",
       "      <th>3</th>\n",
       "      <td>vhigh</td>\n",
       "      <td>vhigh</td>\n",
       "      <td>2</td>\n",
       "      <td>2</td>\n",
       "      <td>med</td>\n",
       "      <td>med</td>\n",
       "      <td>unacc</td>\n",
       "    </tr>\n",
       "    <tr>\n",
       "      <th>4</th>\n",
       "      <td>vhigh</td>\n",
       "      <td>vhigh</td>\n",
       "      <td>2</td>\n",
       "      <td>2</td>\n",
       "      <td>med</td>\n",
       "      <td>high</td>\n",
       "      <td>unacc</td>\n",
       "    </tr>\n",
       "  </tbody>\n",
       "</table>\n",
       "</div>"
      ],
      "text/plain": [
       "   vhigh vhighe  C  D  small   low  unacc\n",
       "0  vhigh  vhigh  2  2  small   med  unacc\n",
       "1  vhigh  vhigh  2  2  small  high  unacc\n",
       "2  vhigh  vhigh  2  2    med   low  unacc\n",
       "3  vhigh  vhigh  2  2    med   med  unacc\n",
       "4  vhigh  vhigh  2  2    med  high  unacc"
      ]
     },
     "execution_count": 35,
     "metadata": {},
     "output_type": "execute_result"
    }
   ],
   "source": [
    "dataset.head()"
   ]
  },
  {
   "cell_type": "code",
   "execution_count": 36,
   "id": "08affdc8",
   "metadata": {},
   "outputs": [
    {
     "data": {
      "text/plain": [
       "(1727, 7)"
      ]
     },
     "execution_count": 36,
     "metadata": {},
     "output_type": "execute_result"
    }
   ],
   "source": [
    "dataset.shape"
   ]
  },
  {
   "cell_type": "code",
   "execution_count": 37,
   "id": "ee6c952f",
   "metadata": {},
   "outputs": [
    {
     "data": {
      "text/plain": [
       "array([False, False, False, False, False, False, False])"
      ]
     },
     "execution_count": 37,
     "metadata": {},
     "output_type": "execute_result"
    }
   ],
   "source": [
    "dataset.columns.duplicated()"
   ]
  },
  {
   "cell_type": "code",
   "execution_count": 38,
   "id": "82350596",
   "metadata": {},
   "outputs": [
    {
     "data": {
      "text/plain": [
       "0"
      ]
     },
     "execution_count": 38,
     "metadata": {},
     "output_type": "execute_result"
    }
   ],
   "source": [
    "dataset.duplicated().sum()"
   ]
  },
  {
   "cell_type": "code",
   "execution_count": 39,
   "id": "f8160b87",
   "metadata": {},
   "outputs": [
    {
     "data": {
      "text/html": [
       "<div>\n",
       "<style scoped>\n",
       "    .dataframe tbody tr th:only-of-type {\n",
       "        vertical-align: middle;\n",
       "    }\n",
       "\n",
       "    .dataframe tbody tr th {\n",
       "        vertical-align: top;\n",
       "    }\n",
       "\n",
       "    .dataframe thead th {\n",
       "        text-align: right;\n",
       "    }\n",
       "</style>\n",
       "<table border=\"1\" class=\"dataframe\">\n",
       "  <thead>\n",
       "    <tr style=\"text-align: right;\">\n",
       "      <th></th>\n",
       "      <th>vhigh</th>\n",
       "      <th>vhighe</th>\n",
       "      <th>C</th>\n",
       "      <th>D</th>\n",
       "      <th>small</th>\n",
       "      <th>low</th>\n",
       "      <th>unacc</th>\n",
       "    </tr>\n",
       "  </thead>\n",
       "  <tbody>\n",
       "  </tbody>\n",
       "</table>\n",
       "</div>"
      ],
      "text/plain": [
       "Empty DataFrame\n",
       "Columns: [vhigh, vhighe, C, D, small, low, unacc]\n",
       "Index: []"
      ]
     },
     "execution_count": 39,
     "metadata": {},
     "output_type": "execute_result"
    }
   ],
   "source": [
    "dataset.loc[dataset.duplicated(keep='first'),:]"
   ]
  },
  {
   "cell_type": "code",
   "execution_count": 40,
   "id": "2e0a895f",
   "metadata": {},
   "outputs": [
    {
     "name": "stdout",
     "output_type": "stream",
     "text": [
      "high     432\n",
      "med      432\n",
      "low      432\n",
      "vhigh    431\n",
      "Name: vhigh, dtype: int64\n",
      "high     432\n",
      "med      432\n",
      "low      432\n",
      "vhigh    431\n",
      "Name: vhighe, dtype: int64\n",
      "med      576\n",
      "big      576\n",
      "small    575\n",
      "Name: small, dtype: int64\n",
      "med     576\n",
      "high    576\n",
      "low     575\n",
      "Name: low, dtype: int64\n",
      "unacc    1209\n",
      "acc       384\n",
      "good       69\n",
      "vgood      65\n",
      "Name: unacc, dtype: int64\n"
     ]
    }
   ],
   "source": [
    "print(dataset.vhigh.value_counts())\n",
    "print(dataset.vhighe.value_counts())\n",
    "print(dataset.small.value_counts())\n",
    "print(dataset.low.value_counts())\n",
    "print(dataset.unacc.value_counts())"
   ]
  },
  {
   "cell_type": "code",
   "execution_count": 41,
   "id": "9a671049",
   "metadata": {},
   "outputs": [],
   "source": [
    "dataset.replace({'vhigh':{'high':0,'med':1,'low':2,'vhigh':3}},inplace=True)\n",
    "\n",
    "dataset.replace({'vhighe':{'high':0,'med':1,'low':2,'vhigh':3}},inplace=True)\n",
    "\n",
    "dataset.replace({'small':{'med':0,'big':1,'small':2}},inplace=True)\n",
    "\n",
    "dataset.replace({'low':{'med':0,'high':1,'low':2}},inplace=True)\n",
    "\n",
    "dataset.replace({'unacc':{'unacc':0,'acc':1,'good':2,'vgood':3}},inplace=True)"
   ]
  },
  {
   "cell_type": "code",
   "execution_count": 42,
   "id": "e729e8e7",
   "metadata": {},
   "outputs": [
    {
     "data": {
      "text/html": [
       "<div>\n",
       "<style scoped>\n",
       "    .dataframe tbody tr th:only-of-type {\n",
       "        vertical-align: middle;\n",
       "    }\n",
       "\n",
       "    .dataframe tbody tr th {\n",
       "        vertical-align: top;\n",
       "    }\n",
       "\n",
       "    .dataframe thead th {\n",
       "        text-align: right;\n",
       "    }\n",
       "</style>\n",
       "<table border=\"1\" class=\"dataframe\">\n",
       "  <thead>\n",
       "    <tr style=\"text-align: right;\">\n",
       "      <th></th>\n",
       "      <th>vhigh</th>\n",
       "      <th>vhighe</th>\n",
       "      <th>C</th>\n",
       "      <th>D</th>\n",
       "      <th>small</th>\n",
       "      <th>low</th>\n",
       "      <th>unacc</th>\n",
       "    </tr>\n",
       "  </thead>\n",
       "  <tbody>\n",
       "    <tr>\n",
       "      <th>0</th>\n",
       "      <td>3</td>\n",
       "      <td>3</td>\n",
       "      <td>2</td>\n",
       "      <td>2</td>\n",
       "      <td>2</td>\n",
       "      <td>0</td>\n",
       "      <td>0</td>\n",
       "    </tr>\n",
       "    <tr>\n",
       "      <th>1</th>\n",
       "      <td>3</td>\n",
       "      <td>3</td>\n",
       "      <td>2</td>\n",
       "      <td>2</td>\n",
       "      <td>2</td>\n",
       "      <td>1</td>\n",
       "      <td>0</td>\n",
       "    </tr>\n",
       "    <tr>\n",
       "      <th>2</th>\n",
       "      <td>3</td>\n",
       "      <td>3</td>\n",
       "      <td>2</td>\n",
       "      <td>2</td>\n",
       "      <td>0</td>\n",
       "      <td>2</td>\n",
       "      <td>0</td>\n",
       "    </tr>\n",
       "    <tr>\n",
       "      <th>3</th>\n",
       "      <td>3</td>\n",
       "      <td>3</td>\n",
       "      <td>2</td>\n",
       "      <td>2</td>\n",
       "      <td>0</td>\n",
       "      <td>0</td>\n",
       "      <td>0</td>\n",
       "    </tr>\n",
       "    <tr>\n",
       "      <th>4</th>\n",
       "      <td>3</td>\n",
       "      <td>3</td>\n",
       "      <td>2</td>\n",
       "      <td>2</td>\n",
       "      <td>0</td>\n",
       "      <td>1</td>\n",
       "      <td>0</td>\n",
       "    </tr>\n",
       "  </tbody>\n",
       "</table>\n",
       "</div>"
      ],
      "text/plain": [
       "   vhigh  vhighe  C  D  small  low  unacc\n",
       "0      3       3  2  2      2    0      0\n",
       "1      3       3  2  2      2    1      0\n",
       "2      3       3  2  2      0    2      0\n",
       "3      3       3  2  2      0    0      0\n",
       "4      3       3  2  2      0    1      0"
      ]
     },
     "execution_count": 42,
     "metadata": {},
     "output_type": "execute_result"
    }
   ],
   "source": [
    "dataset.head()"
   ]
  },
  {
   "cell_type": "code",
   "execution_count": 44,
   "id": "181320eb",
   "metadata": {},
   "outputs": [
    {
     "name": "stdout",
     "output_type": "stream",
     "text": [
      "3        432\n",
      "4        432\n",
      "5more    432\n",
      "2        431\n",
      "Name: C, dtype: int64\n",
      "4       576\n",
      "more    576\n",
      "2       575\n",
      "Name: D, dtype: int64\n"
     ]
    }
   ],
   "source": [
    "print(dataset.C.value_counts())\n",
    "print(dataset.D.value_counts())"
   ]
  },
  {
   "cell_type": "code",
   "execution_count": 45,
   "id": "5d005646",
   "metadata": {},
   "outputs": [],
   "source": [
    "dataset.replace({'C':{'5more':0}},inplace=True)\n",
    "\n",
    "dataset.replace({'D':{'more':0}},inplace=True)"
   ]
  },
  {
   "cell_type": "code",
   "execution_count": 46,
   "id": "b142e6d7",
   "metadata": {},
   "outputs": [
    {
     "data": {
      "text/html": [
       "<div>\n",
       "<style scoped>\n",
       "    .dataframe tbody tr th:only-of-type {\n",
       "        vertical-align: middle;\n",
       "    }\n",
       "\n",
       "    .dataframe tbody tr th {\n",
       "        vertical-align: top;\n",
       "    }\n",
       "\n",
       "    .dataframe thead th {\n",
       "        text-align: right;\n",
       "    }\n",
       "</style>\n",
       "<table border=\"1\" class=\"dataframe\">\n",
       "  <thead>\n",
       "    <tr style=\"text-align: right;\">\n",
       "      <th></th>\n",
       "      <th>vhigh</th>\n",
       "      <th>vhighe</th>\n",
       "      <th>C</th>\n",
       "      <th>D</th>\n",
       "      <th>small</th>\n",
       "      <th>low</th>\n",
       "      <th>unacc</th>\n",
       "    </tr>\n",
       "  </thead>\n",
       "  <tbody>\n",
       "    <tr>\n",
       "      <th>0</th>\n",
       "      <td>3</td>\n",
       "      <td>3</td>\n",
       "      <td>2</td>\n",
       "      <td>2</td>\n",
       "      <td>2</td>\n",
       "      <td>0</td>\n",
       "      <td>0</td>\n",
       "    </tr>\n",
       "    <tr>\n",
       "      <th>1</th>\n",
       "      <td>3</td>\n",
       "      <td>3</td>\n",
       "      <td>2</td>\n",
       "      <td>2</td>\n",
       "      <td>2</td>\n",
       "      <td>1</td>\n",
       "      <td>0</td>\n",
       "    </tr>\n",
       "    <tr>\n",
       "      <th>2</th>\n",
       "      <td>3</td>\n",
       "      <td>3</td>\n",
       "      <td>2</td>\n",
       "      <td>2</td>\n",
       "      <td>0</td>\n",
       "      <td>2</td>\n",
       "      <td>0</td>\n",
       "    </tr>\n",
       "    <tr>\n",
       "      <th>3</th>\n",
       "      <td>3</td>\n",
       "      <td>3</td>\n",
       "      <td>2</td>\n",
       "      <td>2</td>\n",
       "      <td>0</td>\n",
       "      <td>0</td>\n",
       "      <td>0</td>\n",
       "    </tr>\n",
       "    <tr>\n",
       "      <th>4</th>\n",
       "      <td>3</td>\n",
       "      <td>3</td>\n",
       "      <td>2</td>\n",
       "      <td>2</td>\n",
       "      <td>0</td>\n",
       "      <td>1</td>\n",
       "      <td>0</td>\n",
       "    </tr>\n",
       "    <tr>\n",
       "      <th>...</th>\n",
       "      <td>...</td>\n",
       "      <td>...</td>\n",
       "      <td>...</td>\n",
       "      <td>...</td>\n",
       "      <td>...</td>\n",
       "      <td>...</td>\n",
       "      <td>...</td>\n",
       "    </tr>\n",
       "    <tr>\n",
       "      <th>1722</th>\n",
       "      <td>2</td>\n",
       "      <td>2</td>\n",
       "      <td>0</td>\n",
       "      <td>0</td>\n",
       "      <td>0</td>\n",
       "      <td>0</td>\n",
       "      <td>2</td>\n",
       "    </tr>\n",
       "    <tr>\n",
       "      <th>1723</th>\n",
       "      <td>2</td>\n",
       "      <td>2</td>\n",
       "      <td>0</td>\n",
       "      <td>0</td>\n",
       "      <td>0</td>\n",
       "      <td>1</td>\n",
       "      <td>3</td>\n",
       "    </tr>\n",
       "    <tr>\n",
       "      <th>1724</th>\n",
       "      <td>2</td>\n",
       "      <td>2</td>\n",
       "      <td>0</td>\n",
       "      <td>0</td>\n",
       "      <td>1</td>\n",
       "      <td>2</td>\n",
       "      <td>0</td>\n",
       "    </tr>\n",
       "    <tr>\n",
       "      <th>1725</th>\n",
       "      <td>2</td>\n",
       "      <td>2</td>\n",
       "      <td>0</td>\n",
       "      <td>0</td>\n",
       "      <td>1</td>\n",
       "      <td>0</td>\n",
       "      <td>2</td>\n",
       "    </tr>\n",
       "    <tr>\n",
       "      <th>1726</th>\n",
       "      <td>2</td>\n",
       "      <td>2</td>\n",
       "      <td>0</td>\n",
       "      <td>0</td>\n",
       "      <td>1</td>\n",
       "      <td>1</td>\n",
       "      <td>3</td>\n",
       "    </tr>\n",
       "  </tbody>\n",
       "</table>\n",
       "<p>1727 rows × 7 columns</p>\n",
       "</div>"
      ],
      "text/plain": [
       "      vhigh  vhighe  C  D  small  low  unacc\n",
       "0         3       3  2  2      2    0      0\n",
       "1         3       3  2  2      2    1      0\n",
       "2         3       3  2  2      0    2      0\n",
       "3         3       3  2  2      0    0      0\n",
       "4         3       3  2  2      0    1      0\n",
       "...     ...     ... .. ..    ...  ...    ...\n",
       "1722      2       2  0  0      0    0      2\n",
       "1723      2       2  0  0      0    1      3\n",
       "1724      2       2  0  0      1    2      0\n",
       "1725      2       2  0  0      1    0      2\n",
       "1726      2       2  0  0      1    1      3\n",
       "\n",
       "[1727 rows x 7 columns]"
      ]
     },
     "execution_count": 46,
     "metadata": {},
     "output_type": "execute_result"
    }
   ],
   "source": [
    "dataset"
   ]
  },
  {
   "cell_type": "code",
   "execution_count": 47,
   "id": "14aa4404",
   "metadata": {},
   "outputs": [],
   "source": [
    "x = dataset.drop('unacc',axis=1)"
   ]
  },
  {
   "cell_type": "code",
   "execution_count": 48,
   "id": "8107e700",
   "metadata": {},
   "outputs": [],
   "source": [
    "y = dataset['unacc']"
   ]
  },
  {
   "cell_type": "code",
   "execution_count": 49,
   "id": "8a9f34fe",
   "metadata": {},
   "outputs": [],
   "source": [
    "x_train, x_test, y_train, y_test = train_test_split(x, y, test_size=0.1, random_state=1)"
   ]
  },
  {
   "cell_type": "code",
   "execution_count": 50,
   "id": "18612f46",
   "metadata": {},
   "outputs": [
    {
     "name": "stdout",
     "output_type": "stream",
     "text": [
      "      vhigh  vhighe  C  D  small  low\n",
      "0         3       3  2  2      2    0\n",
      "1         3       3  2  2      2    1\n",
      "2         3       3  2  2      0    2\n",
      "3         3       3  2  2      0    0\n",
      "4         3       3  2  2      0    1\n",
      "...     ...     ... .. ..    ...  ...\n",
      "1722      2       2  0  0      0    0\n",
      "1723      2       2  0  0      0    1\n",
      "1724      2       2  0  0      1    2\n",
      "1725      2       2  0  0      1    0\n",
      "1726      2       2  0  0      1    1\n",
      "\n",
      "[1727 rows x 6 columns]\n"
     ]
    }
   ],
   "source": [
    "print(x)"
   ]
  },
  {
   "cell_type": "code",
   "execution_count": 51,
   "id": "c24024c2",
   "metadata": {},
   "outputs": [
    {
     "name": "stdout",
     "output_type": "stream",
     "text": [
      "0       0\n",
      "1       0\n",
      "2       0\n",
      "3       0\n",
      "4       0\n",
      "       ..\n",
      "1722    2\n",
      "1723    3\n",
      "1724    0\n",
      "1725    2\n",
      "1726    3\n",
      "Name: unacc, Length: 1727, dtype: int64\n"
     ]
    }
   ],
   "source": [
    "print(y)"
   ]
  },
  {
   "cell_type": "code",
   "execution_count": 52,
   "id": "6b993913",
   "metadata": {},
   "outputs": [],
   "source": [
    "clf_entropy = DecisionTreeClassifier(criterion = 'entropy', random_state=0)"
   ]
  },
  {
   "cell_type": "code",
   "execution_count": 53,
   "id": "b18fde9d",
   "metadata": {},
   "outputs": [
    {
     "data": {
      "text/plain": [
       "DecisionTreeClassifier(criterion='entropy', random_state=0)"
      ]
     },
     "execution_count": 53,
     "metadata": {},
     "output_type": "execute_result"
    }
   ],
   "source": [
    "clf_entropy.fit(x_train, y_train)"
   ]
  },
  {
   "cell_type": "code",
   "execution_count": 54,
   "id": "cb9195be",
   "metadata": {},
   "outputs": [],
   "source": [
    "prediction = clf_entropy.predict(x_test)"
   ]
  },
  {
   "cell_type": "code",
   "execution_count": 55,
   "id": "a8095965",
   "metadata": {},
   "outputs": [
    {
     "name": "stdout",
     "output_type": "stream",
     "text": [
      "[0 1 0 0 0 1 3 0 1 3 1 0 0 0 0 0 1 1 0 0 0 0 0 1 0 0 0 0 0 1 1 0 0 0 0 0 0\n",
      " 0 3 1 0 0 0 0 0 0 1 0 2 0 2 0 0 0 0 0 1 0 1 1 0 3 0 2 0 0 0 0 0 0 1 0 1 0\n",
      " 2 0 0 0 0 1 1 3 0 0 1 3 0 0 0 0 0 0 0 0 0 0 0 0 1 0 0 1 1 0 0 0 0 0 0 0 0\n",
      " 1 0 0 0 1 0 2 0 0 0 0 0 0 3 0 0 0 0 0 0 0 0 0 3 0 0 1 0 0 0 0 1 1 0 0 0 1\n",
      " 0 0 0 1 1 0 0 1 1 0 0 0 0 0 1 0 0 0 0 0 1 0 1 0 0]\n"
     ]
    }
   ],
   "source": [
    "print(prediction)"
   ]
  },
  {
   "cell_type": "code",
   "execution_count": 56,
   "id": "17fef510",
   "metadata": {},
   "outputs": [
    {
     "name": "stdout",
     "output_type": "stream",
     "text": [
      "[[123   4   0   0]\n",
      " [  2  28   0   0]\n",
      " [  0   1   5   0]\n",
      " [  0   2   0   8]]\n"
     ]
    }
   ],
   "source": [
    "print(confusion_matrix(y_test, prediction))"
   ]
  },
  {
   "cell_type": "code",
   "execution_count": 57,
   "id": "078aaec9",
   "metadata": {},
   "outputs": [
    {
     "name": "stdout",
     "output_type": "stream",
     "text": [
      "0.9479768786127167\n"
     ]
    }
   ],
   "source": [
    "print(accuracy_score(y_test,prediction))"
   ]
  },
  {
   "cell_type": "code",
   "execution_count": 58,
   "id": "cc1bb097",
   "metadata": {},
   "outputs": [],
   "source": [
    "from matplotlib import pyplot as plt"
   ]
  },
  {
   "cell_type": "code",
   "execution_count": 59,
   "id": "162705fe",
   "metadata": {},
   "outputs": [],
   "source": [
    "text_representation = tree.export_text(clf_entropy)"
   ]
  },
  {
   "cell_type": "code",
   "execution_count": 60,
   "id": "c41ae827",
   "metadata": {},
   "outputs": [
    {
     "name": "stdout",
     "output_type": "stream",
     "text": [
      "|--- feature_5 <= 1.50\n",
      "|   |--- feature_3 <= 3.00\n",
      "|   |   |--- feature_3 <= 1.00\n",
      "|   |   |   |--- feature_0 <= 2.50\n",
      "|   |   |   |   |--- feature_0 <= 0.50\n",
      "|   |   |   |   |   |--- feature_1 <= 2.50\n",
      "|   |   |   |   |   |   |--- feature_4 <= 1.50\n",
      "|   |   |   |   |   |   |   |--- feature_1 <= 1.50\n",
      "|   |   |   |   |   |   |   |   |--- class: 1\n",
      "|   |   |   |   |   |   |   |--- feature_1 >  1.50\n",
      "|   |   |   |   |   |   |   |   |--- feature_5 <= 0.50\n",
      "|   |   |   |   |   |   |   |   |   |--- feature_2 <= 2.50\n",
      "|   |   |   |   |   |   |   |   |   |   |--- feature_2 <= 1.00\n",
      "|   |   |   |   |   |   |   |   |   |   |   |--- class: 1\n",
      "|   |   |   |   |   |   |   |   |   |   |--- feature_2 >  1.00\n",
      "|   |   |   |   |   |   |   |   |   |   |   |--- truncated branch of depth 2\n",
      "|   |   |   |   |   |   |   |   |   |--- feature_2 >  2.50\n",
      "|   |   |   |   |   |   |   |   |   |   |--- class: 1\n",
      "|   |   |   |   |   |   |   |   |--- feature_5 >  0.50\n",
      "|   |   |   |   |   |   |   |   |   |--- class: 1\n",
      "|   |   |   |   |   |   |--- feature_4 >  1.50\n",
      "|   |   |   |   |   |   |   |--- feature_5 <= 0.50\n",
      "|   |   |   |   |   |   |   |   |--- class: 0\n",
      "|   |   |   |   |   |   |   |--- feature_5 >  0.50\n",
      "|   |   |   |   |   |   |   |   |--- feature_2 <= 2.50\n",
      "|   |   |   |   |   |   |   |   |   |--- feature_2 <= 1.00\n",
      "|   |   |   |   |   |   |   |   |   |   |--- class: 1\n",
      "|   |   |   |   |   |   |   |   |   |--- feature_2 >  1.00\n",
      "|   |   |   |   |   |   |   |   |   |   |--- class: 0\n",
      "|   |   |   |   |   |   |   |   |--- feature_2 >  2.50\n",
      "|   |   |   |   |   |   |   |   |   |--- class: 1\n",
      "|   |   |   |   |   |--- feature_1 >  2.50\n",
      "|   |   |   |   |   |   |--- class: 0\n",
      "|   |   |   |   |--- feature_0 >  0.50\n",
      "|   |   |   |   |   |--- feature_4 <= 1.50\n",
      "|   |   |   |   |   |   |--- feature_5 <= 0.50\n",
      "|   |   |   |   |   |   |   |--- feature_1 <= 2.50\n",
      "|   |   |   |   |   |   |   |   |--- feature_1 <= 0.50\n",
      "|   |   |   |   |   |   |   |   |   |--- class: 1\n",
      "|   |   |   |   |   |   |   |   |--- feature_1 >  0.50\n",
      "|   |   |   |   |   |   |   |   |   |--- feature_0 <= 1.50\n",
      "|   |   |   |   |   |   |   |   |   |   |--- feature_1 <= 1.50\n",
      "|   |   |   |   |   |   |   |   |   |   |   |--- class: 1\n",
      "|   |   |   |   |   |   |   |   |   |   |--- feature_1 >  1.50\n",
      "|   |   |   |   |   |   |   |   |   |   |   |--- truncated branch of depth 4\n",
      "|   |   |   |   |   |   |   |   |   |--- feature_0 >  1.50\n",
      "|   |   |   |   |   |   |   |   |   |   |--- feature_2 <= 2.50\n",
      "|   |   |   |   |   |   |   |   |   |   |   |--- truncated branch of depth 3\n",
      "|   |   |   |   |   |   |   |   |   |   |--- feature_2 >  2.50\n",
      "|   |   |   |   |   |   |   |   |   |   |   |--- class: 2\n",
      "|   |   |   |   |   |   |   |--- feature_1 >  2.50\n",
      "|   |   |   |   |   |   |   |   |--- feature_2 <= 2.50\n",
      "|   |   |   |   |   |   |   |   |   |--- feature_4 <= 0.50\n",
      "|   |   |   |   |   |   |   |   |   |   |--- feature_2 <= 1.00\n",
      "|   |   |   |   |   |   |   |   |   |   |   |--- class: 1\n",
      "|   |   |   |   |   |   |   |   |   |   |--- feature_2 >  1.00\n",
      "|   |   |   |   |   |   |   |   |   |   |   |--- class: 0\n",
      "|   |   |   |   |   |   |   |   |   |--- feature_4 >  0.50\n",
      "|   |   |   |   |   |   |   |   |   |   |--- class: 1\n",
      "|   |   |   |   |   |   |   |   |--- feature_2 >  2.50\n",
      "|   |   |   |   |   |   |   |   |   |--- class: 1\n",
      "|   |   |   |   |   |   |--- feature_5 >  0.50\n",
      "|   |   |   |   |   |   |   |--- feature_1 <= 2.50\n",
      "|   |   |   |   |   |   |   |   |--- feature_1 <= 0.50\n",
      "|   |   |   |   |   |   |   |   |   |--- feature_0 <= 1.50\n",
      "|   |   |   |   |   |   |   |   |   |   |--- class: 1\n",
      "|   |   |   |   |   |   |   |   |   |--- feature_0 >  1.50\n",
      "|   |   |   |   |   |   |   |   |   |   |--- feature_4 <= 0.50\n",
      "|   |   |   |   |   |   |   |   |   |   |   |--- truncated branch of depth 3\n",
      "|   |   |   |   |   |   |   |   |   |   |--- feature_4 >  0.50\n",
      "|   |   |   |   |   |   |   |   |   |   |   |--- class: 3\n",
      "|   |   |   |   |   |   |   |   |--- feature_1 >  0.50\n",
      "|   |   |   |   |   |   |   |   |   |--- feature_2 <= 2.50\n",
      "|   |   |   |   |   |   |   |   |   |   |--- feature_2 <= 1.00\n",
      "|   |   |   |   |   |   |   |   |   |   |   |--- class: 3\n",
      "|   |   |   |   |   |   |   |   |   |   |--- feature_2 >  1.00\n",
      "|   |   |   |   |   |   |   |   |   |   |   |--- truncated branch of depth 3\n",
      "|   |   |   |   |   |   |   |   |   |--- feature_2 >  2.50\n",
      "|   |   |   |   |   |   |   |   |   |   |--- class: 3\n",
      "|   |   |   |   |   |   |   |--- feature_1 >  2.50\n",
      "|   |   |   |   |   |   |   |   |--- class: 1\n",
      "|   |   |   |   |   |--- feature_4 >  1.50\n",
      "|   |   |   |   |   |   |--- feature_5 <= 0.50\n",
      "|   |   |   |   |   |   |   |--- feature_1 <= 2.50\n",
      "|   |   |   |   |   |   |   |   |--- feature_2 <= 2.50\n",
      "|   |   |   |   |   |   |   |   |   |--- feature_2 <= 1.00\n",
      "|   |   |   |   |   |   |   |   |   |   |--- class: 1\n",
      "|   |   |   |   |   |   |   |   |   |--- feature_2 >  1.00\n",
      "|   |   |   |   |   |   |   |   |   |   |--- class: 0\n",
      "|   |   |   |   |   |   |   |   |--- feature_2 >  2.50\n",
      "|   |   |   |   |   |   |   |   |   |--- feature_1 <= 0.50\n",
      "|   |   |   |   |   |   |   |   |   |   |--- feature_0 <= 1.50\n",
      "|   |   |   |   |   |   |   |   |   |   |   |--- class: 0\n",
      "|   |   |   |   |   |   |   |   |   |   |--- feature_0 >  1.50\n",
      "|   |   |   |   |   |   |   |   |   |   |   |--- class: 1\n",
      "|   |   |   |   |   |   |   |   |   |--- feature_1 >  0.50\n",
      "|   |   |   |   |   |   |   |   |   |   |--- class: 1\n",
      "|   |   |   |   |   |   |   |--- feature_1 >  2.50\n",
      "|   |   |   |   |   |   |   |   |--- class: 0\n",
      "|   |   |   |   |   |   |--- feature_5 >  0.50\n",
      "|   |   |   |   |   |   |   |--- feature_2 <= 2.50\n",
      "|   |   |   |   |   |   |   |   |--- feature_2 <= 1.00\n",
      "|   |   |   |   |   |   |   |   |   |--- feature_1 <= 0.50\n",
      "|   |   |   |   |   |   |   |   |   |   |--- class: 1\n",
      "|   |   |   |   |   |   |   |   |   |--- feature_1 >  0.50\n",
      "|   |   |   |   |   |   |   |   |   |   |--- feature_1 <= 2.50\n",
      "|   |   |   |   |   |   |   |   |   |   |   |--- truncated branch of depth 3\n",
      "|   |   |   |   |   |   |   |   |   |   |--- feature_1 >  2.50\n",
      "|   |   |   |   |   |   |   |   |   |   |   |--- class: 1\n",
      "|   |   |   |   |   |   |   |   |--- feature_2 >  1.00\n",
      "|   |   |   |   |   |   |   |   |   |--- class: 0\n",
      "|   |   |   |   |   |   |   |--- feature_2 >  2.50\n",
      "|   |   |   |   |   |   |   |   |--- feature_1 <= 0.50\n",
      "|   |   |   |   |   |   |   |   |   |--- class: 1\n",
      "|   |   |   |   |   |   |   |   |--- feature_1 >  0.50\n",
      "|   |   |   |   |   |   |   |   |   |--- feature_1 <= 2.50\n",
      "|   |   |   |   |   |   |   |   |   |   |--- feature_1 <= 1.50\n",
      "|   |   |   |   |   |   |   |   |   |   |   |--- truncated branch of depth 2\n",
      "|   |   |   |   |   |   |   |   |   |   |--- feature_1 >  1.50\n",
      "|   |   |   |   |   |   |   |   |   |   |   |--- class: 2\n",
      "|   |   |   |   |   |   |   |   |   |--- feature_1 >  2.50\n",
      "|   |   |   |   |   |   |   |   |   |   |--- class: 1\n",
      "|   |   |   |--- feature_0 >  2.50\n",
      "|   |   |   |   |--- feature_1 <= 0.50\n",
      "|   |   |   |   |   |--- class: 0\n",
      "|   |   |   |   |--- feature_1 >  0.50\n",
      "|   |   |   |   |   |--- feature_1 <= 2.50\n",
      "|   |   |   |   |   |   |--- feature_4 <= 1.50\n",
      "|   |   |   |   |   |   |   |--- feature_4 <= 0.50\n",
      "|   |   |   |   |   |   |   |   |--- feature_5 <= 0.50\n",
      "|   |   |   |   |   |   |   |   |   |--- feature_2 <= 1.00\n",
      "|   |   |   |   |   |   |   |   |   |   |--- class: 1\n",
      "|   |   |   |   |   |   |   |   |   |--- feature_2 >  1.00\n",
      "|   |   |   |   |   |   |   |   |   |   |--- feature_2 <= 3.00\n",
      "|   |   |   |   |   |   |   |   |   |   |   |--- class: 0\n",
      "|   |   |   |   |   |   |   |   |   |   |--- feature_2 >  3.00\n",
      "|   |   |   |   |   |   |   |   |   |   |   |--- class: 1\n",
      "|   |   |   |   |   |   |   |   |--- feature_5 >  0.50\n",
      "|   |   |   |   |   |   |   |   |   |--- class: 1\n",
      "|   |   |   |   |   |   |   |--- feature_4 >  0.50\n",
      "|   |   |   |   |   |   |   |   |--- class: 1\n",
      "|   |   |   |   |   |   |--- feature_4 >  1.50\n",
      "|   |   |   |   |   |   |   |--- feature_5 <= 0.50\n",
      "|   |   |   |   |   |   |   |   |--- class: 0\n",
      "|   |   |   |   |   |   |   |--- feature_5 >  0.50\n",
      "|   |   |   |   |   |   |   |   |--- feature_2 <= 2.50\n",
      "|   |   |   |   |   |   |   |   |   |--- feature_2 <= 1.00\n",
      "|   |   |   |   |   |   |   |   |   |   |--- class: 1\n",
      "|   |   |   |   |   |   |   |   |   |--- feature_2 >  1.00\n",
      "|   |   |   |   |   |   |   |   |   |   |--- class: 0\n",
      "|   |   |   |   |   |   |   |   |--- feature_2 >  2.50\n",
      "|   |   |   |   |   |   |   |   |   |--- class: 1\n",
      "|   |   |   |   |   |--- feature_1 >  2.50\n",
      "|   |   |   |   |   |   |--- class: 0\n",
      "|   |   |--- feature_3 >  1.00\n",
      "|   |   |   |--- class: 0\n",
      "|   |--- feature_3 >  3.00\n",
      "|   |   |--- feature_0 <= 2.50\n",
      "|   |   |   |--- feature_0 <= 0.50\n",
      "|   |   |   |   |--- feature_1 <= 2.50\n",
      "|   |   |   |   |   |--- feature_5 <= 0.50\n",
      "|   |   |   |   |   |   |--- feature_4 <= 1.50\n",
      "|   |   |   |   |   |   |   |--- feature_4 <= 0.50\n",
      "|   |   |   |   |   |   |   |   |--- feature_2 <= 1.00\n",
      "|   |   |   |   |   |   |   |   |   |--- class: 1\n",
      "|   |   |   |   |   |   |   |   |--- feature_2 >  1.00\n",
      "|   |   |   |   |   |   |   |   |   |--- feature_2 <= 3.50\n",
      "|   |   |   |   |   |   |   |   |   |   |--- class: 0\n",
      "|   |   |   |   |   |   |   |   |   |--- feature_2 >  3.50\n",
      "|   |   |   |   |   |   |   |   |   |   |--- class: 1\n",
      "|   |   |   |   |   |   |   |--- feature_4 >  0.50\n",
      "|   |   |   |   |   |   |   |   |--- class: 1\n",
      "|   |   |   |   |   |   |--- feature_4 >  1.50\n",
      "|   |   |   |   |   |   |   |--- class: 0\n",
      "|   |   |   |   |   |--- feature_5 >  0.50\n",
      "|   |   |   |   |   |   |--- class: 1\n",
      "|   |   |   |   |--- feature_1 >  2.50\n",
      "|   |   |   |   |   |--- class: 0\n",
      "|   |   |   |--- feature_0 >  0.50\n",
      "|   |   |   |   |--- feature_5 <= 0.50\n",
      "|   |   |   |   |   |--- feature_4 <= 1.50\n",
      "|   |   |   |   |   |   |--- feature_1 <= 2.50\n",
      "|   |   |   |   |   |   |   |--- feature_1 <= 0.50\n",
      "|   |   |   |   |   |   |   |   |--- feature_0 <= 1.50\n",
      "|   |   |   |   |   |   |   |   |   |--- feature_4 <= 0.50\n",
      "|   |   |   |   |   |   |   |   |   |   |--- feature_2 <= 1.00\n",
      "|   |   |   |   |   |   |   |   |   |   |   |--- class: 1\n",
      "|   |   |   |   |   |   |   |   |   |   |--- feature_2 >  1.00\n",
      "|   |   |   |   |   |   |   |   |   |   |   |--- truncated branch of depth 2\n",
      "|   |   |   |   |   |   |   |   |   |--- feature_4 >  0.50\n",
      "|   |   |   |   |   |   |   |   |   |   |--- class: 1\n",
      "|   |   |   |   |   |   |   |   |--- feature_0 >  1.50\n",
      "|   |   |   |   |   |   |   |   |   |--- class: 1\n",
      "|   |   |   |   |   |   |   |--- feature_1 >  0.50\n",
      "|   |   |   |   |   |   |   |   |--- feature_0 <= 1.50\n",
      "|   |   |   |   |   |   |   |   |   |--- feature_1 <= 1.50\n",
      "|   |   |   |   |   |   |   |   |   |   |--- class: 1\n",
      "|   |   |   |   |   |   |   |   |   |--- feature_1 >  1.50\n",
      "|   |   |   |   |   |   |   |   |   |   |--- feature_4 <= 0.50\n",
      "|   |   |   |   |   |   |   |   |   |   |   |--- truncated branch of depth 3\n",
      "|   |   |   |   |   |   |   |   |   |   |--- feature_4 >  0.50\n",
      "|   |   |   |   |   |   |   |   |   |   |   |--- class: 2\n",
      "|   |   |   |   |   |   |   |   |--- feature_0 >  1.50\n",
      "|   |   |   |   |   |   |   |   |   |--- feature_4 <= 0.50\n",
      "|   |   |   |   |   |   |   |   |   |   |--- feature_2 <= 1.00\n",
      "|   |   |   |   |   |   |   |   |   |   |   |--- class: 2\n",
      "|   |   |   |   |   |   |   |   |   |   |--- feature_2 >  1.00\n",
      "|   |   |   |   |   |   |   |   |   |   |   |--- truncated branch of depth 2\n",
      "|   |   |   |   |   |   |   |   |   |--- feature_4 >  0.50\n",
      "|   |   |   |   |   |   |   |   |   |   |--- class: 2\n",
      "|   |   |   |   |   |   |--- feature_1 >  2.50\n",
      "|   |   |   |   |   |   |   |--- feature_4 <= 0.50\n",
      "|   |   |   |   |   |   |   |   |--- feature_2 <= 1.00\n",
      "|   |   |   |   |   |   |   |   |   |--- class: 1\n",
      "|   |   |   |   |   |   |   |   |--- feature_2 >  1.00\n",
      "|   |   |   |   |   |   |   |   |   |--- feature_2 <= 3.50\n",
      "|   |   |   |   |   |   |   |   |   |   |--- class: 0\n",
      "|   |   |   |   |   |   |   |   |   |--- feature_2 >  3.50\n",
      "|   |   |   |   |   |   |   |   |   |   |--- class: 1\n",
      "|   |   |   |   |   |   |   |--- feature_4 >  0.50\n",
      "|   |   |   |   |   |   |   |   |--- class: 1\n",
      "|   |   |   |   |   |--- feature_4 >  1.50\n",
      "|   |   |   |   |   |   |--- feature_1 <= 2.50\n",
      "|   |   |   |   |   |   |   |--- feature_1 <= 0.50\n",
      "|   |   |   |   |   |   |   |   |--- feature_0 <= 1.50\n",
      "|   |   |   |   |   |   |   |   |   |--- class: 0\n",
      "|   |   |   |   |   |   |   |   |--- feature_0 >  1.50\n",
      "|   |   |   |   |   |   |   |   |   |--- class: 1\n",
      "|   |   |   |   |   |   |   |--- feature_1 >  0.50\n",
      "|   |   |   |   |   |   |   |   |--- class: 1\n",
      "|   |   |   |   |   |   |--- feature_1 >  2.50\n",
      "|   |   |   |   |   |   |   |--- class: 0\n",
      "|   |   |   |   |--- feature_5 >  0.50\n",
      "|   |   |   |   |   |--- feature_1 <= 2.50\n",
      "|   |   |   |   |   |   |--- feature_1 <= 0.50\n",
      "|   |   |   |   |   |   |   |--- feature_0 <= 1.50\n",
      "|   |   |   |   |   |   |   |   |--- class: 1\n",
      "|   |   |   |   |   |   |   |--- feature_0 >  1.50\n",
      "|   |   |   |   |   |   |   |   |--- feature_4 <= 1.50\n",
      "|   |   |   |   |   |   |   |   |   |--- feature_4 <= 0.50\n",
      "|   |   |   |   |   |   |   |   |   |   |--- feature_2 <= 1.00\n",
      "|   |   |   |   |   |   |   |   |   |   |   |--- class: 3\n",
      "|   |   |   |   |   |   |   |   |   |   |--- feature_2 >  1.00\n",
      "|   |   |   |   |   |   |   |   |   |   |   |--- class: 1\n",
      "|   |   |   |   |   |   |   |   |   |--- feature_4 >  0.50\n",
      "|   |   |   |   |   |   |   |   |   |   |--- class: 3\n",
      "|   |   |   |   |   |   |   |   |--- feature_4 >  1.50\n",
      "|   |   |   |   |   |   |   |   |   |--- class: 1\n",
      "|   |   |   |   |   |   |--- feature_1 >  0.50\n",
      "|   |   |   |   |   |   |   |--- feature_4 <= 1.50\n",
      "|   |   |   |   |   |   |   |   |--- feature_4 <= 0.50\n",
      "|   |   |   |   |   |   |   |   |   |--- feature_2 <= 3.50\n",
      "|   |   |   |   |   |   |   |   |   |   |--- feature_2 <= 1.00\n",
      "|   |   |   |   |   |   |   |   |   |   |   |--- class: 3\n",
      "|   |   |   |   |   |   |   |   |   |   |--- feature_2 >  1.00\n",
      "|   |   |   |   |   |   |   |   |   |   |   |--- truncated branch of depth 3\n",
      "|   |   |   |   |   |   |   |   |   |--- feature_2 >  3.50\n",
      "|   |   |   |   |   |   |   |   |   |   |--- class: 3\n",
      "|   |   |   |   |   |   |   |   |--- feature_4 >  0.50\n",
      "|   |   |   |   |   |   |   |   |   |--- class: 3\n",
      "|   |   |   |   |   |   |   |--- feature_4 >  1.50\n",
      "|   |   |   |   |   |   |   |   |--- feature_0 <= 1.50\n",
      "|   |   |   |   |   |   |   |   |   |--- feature_1 <= 1.50\n",
      "|   |   |   |   |   |   |   |   |   |   |--- class: 1\n",
      "|   |   |   |   |   |   |   |   |   |--- feature_1 >  1.50\n",
      "|   |   |   |   |   |   |   |   |   |   |--- class: 2\n",
      "|   |   |   |   |   |   |   |   |--- feature_0 >  1.50\n",
      "|   |   |   |   |   |   |   |   |   |--- class: 2\n",
      "|   |   |   |   |   |--- feature_1 >  2.50\n",
      "|   |   |   |   |   |   |--- class: 1\n",
      "|   |   |--- feature_0 >  2.50\n",
      "|   |   |   |--- feature_1 <= 2.50\n",
      "|   |   |   |   |--- feature_1 <= 0.50\n",
      "|   |   |   |   |   |--- class: 0\n",
      "|   |   |   |   |--- feature_1 >  0.50\n",
      "|   |   |   |   |   |--- feature_5 <= 0.50\n",
      "|   |   |   |   |   |   |--- feature_4 <= 1.50\n",
      "|   |   |   |   |   |   |   |--- feature_4 <= 0.50\n",
      "|   |   |   |   |   |   |   |   |--- feature_2 <= 1.00\n",
      "|   |   |   |   |   |   |   |   |   |--- class: 1\n",
      "|   |   |   |   |   |   |   |   |--- feature_2 >  1.00\n",
      "|   |   |   |   |   |   |   |   |   |--- feature_2 <= 3.50\n",
      "|   |   |   |   |   |   |   |   |   |   |--- class: 0\n",
      "|   |   |   |   |   |   |   |   |   |--- feature_2 >  3.50\n",
      "|   |   |   |   |   |   |   |   |   |   |--- class: 1\n",
      "|   |   |   |   |   |   |   |--- feature_4 >  0.50\n",
      "|   |   |   |   |   |   |   |   |--- class: 1\n",
      "|   |   |   |   |   |   |--- feature_4 >  1.50\n",
      "|   |   |   |   |   |   |   |--- class: 0\n",
      "|   |   |   |   |   |--- feature_5 >  0.50\n",
      "|   |   |   |   |   |   |--- class: 1\n",
      "|   |   |   |--- feature_1 >  2.50\n",
      "|   |   |   |   |--- class: 0\n",
      "|--- feature_5 >  1.50\n",
      "|   |--- class: 0\n",
      "\n"
     ]
    }
   ],
   "source": [
    "print(text_representation)"
   ]
  },
  {
   "cell_type": "code",
   "execution_count": 61,
   "id": "adf1b136",
   "metadata": {},
   "outputs": [
    {
     "data": {
      "text/plain": [
       "<Figure size 5040x3600 with 0 Axes>"
      ]
     },
     "metadata": {},
     "output_type": "display_data"
    }
   ],
   "source": [
    "fig = plt.figure(figsize=(70,50))"
   ]
  },
  {
   "cell_type": "code",
   "execution_count": 62,
   "id": "9ef69b80",
   "metadata": {},
   "outputs": [
    {
     "data": {
      "image/png": "[encoded data removed]",
      "text/plain": [
       "<Figure size 432x288 with 1 Axes>"
      ]
     },
     "metadata": {
      "needs_background": "light"
     },
     "output_type": "display_data"
    }
   ],
   "source": [
    "gg = tree.plot_tree(clf_entropy, filled=True)"
   ]
  },
  {
   "cell_type": "code",
   "execution_count": 64,
   "id": "7f6ef8a2",
   "metadata": {},
   "outputs": [],
   "source": [
    "fig.savefig(\"careval.jpg\")"
   ]
  },
  {
   "cell_type": "code",
   "execution_count": null,
   "id": "daf329a5",
   "metadata": {},
   "outputs": [],
   "source": []
  }
 ],
 "metadata": {
  "kernelspec": {
   "display_name": "Python 3 (ipykernel)",
   "language": "python",
   "name": "python3"
  },
  "language_info": {
   "codemirror_mode": {
    "name": "ipython",
    "version": 3
   },
   "file_extension": ".py",
   "mimetype": "text/x-python",
   "name": "python",
   "nbconvert_exporter": "python",
   "pygments_lexer": "ipython3",
   "version": "3.9.12"
  }
 },
 "nbformat": 4,
 "nbformat_minor": 5
}
